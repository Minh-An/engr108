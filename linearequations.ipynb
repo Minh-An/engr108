{
 "cells": [
  {
   "cell_type": "markdown",
   "metadata": {},
   "source": [
    "# Chapter 8: Linear equations\n",
    "\n",
    "## 8.1 Linear and affine functions \n",
    "\n",
    "**Matrix-vector product function** Define a matrix-vector product function and numerically check that superposition holds. \n",
    "\n",
    "Note: Superposition property states that $f(\\alpha x + \\beta y) = \\alpha f(x) + \\beta f(y)$"
   ]
  },
  {
   "cell_type": "code",
   "execution_count": 4,
   "metadata": {},
   "outputs": [
    {
     "data": {
      "text/plain": [
       "([9.47, 16.75], [9.47, 16.75])"
      ]
     },
     "metadata": {},
     "output_type": "display_data"
    }
   ],
   "source": [
    "A = [-0.1 2.8 -1.6;\n",
    "     2.3 -0.6 -3.6]\n",
    "\n",
    "f(x) = A*x # matrix-vector product function \n",
    "\n",
    "x = [1, 2, 3]; y = [-3, -1, 2];\n",
    "alpha = 0.5; beta = -1.6;\n",
    "\n",
    "lhs = f(alpha*x+beta*y)\n",
    "rhs = alpha*f(x)+beta*f(y)\n",
    "lhs,rhs"
   ]
  },
  {
   "cell_type": "code",
   "execution_count": 6,
   "metadata": {},
   "outputs": [
    {
     "data": {
      "text/plain": [
       "0.0"
      ]
     },
     "metadata": {},
     "output_type": "display_data"
    }
   ],
   "source": [
    "using LinearAlgebra\n",
    "norm(lhs-rhs)"
   ]
  },
  {
   "cell_type": "code",
   "execution_count": 7,
   "metadata": {},
   "outputs": [
    {
     "data": {
      "text/plain": [
       "2-element Vector{Float64}:\n",
       "  2.8\n",
       " -0.6"
      ]
     },
     "metadata": {},
     "output_type": "display_data"
    }
   ],
   "source": [
    "f([0,1,0]) # check that this is the second column of A (A*e2 = second column)"
   ]
  },
  {
   "cell_type": "markdown",
   "metadata": {},
   "source": [
    "**de-meaning matrix** Create a de-meaning matrix and check that it works on a vector"
   ]
  },
  {
   "cell_type": "code",
   "execution_count": 17,
   "metadata": {},
   "outputs": [
    {
     "data": {
      "text/plain": [
       "([-0.9667, 1.1333, -0.1667], [-0.96667, 1.13333, -0.16667])"
      ]
     },
     "metadata": {},
     "output_type": "display_data"
    }
   ],
   "source": [
    "using VMLS\n",
    "de_mean(n) = eye(n) .- 1/n; \n",
    "x = [0.2, 2.3, 1.0];\n",
    "(round.(de_mean(length(x))*x, digits=4), round.(x.-avg(x), digits=5)) # compare de-mean matrix vector product and demean by subtracting mean"
   ]
  },
  {
   "cell_type": "markdown",
   "metadata": {},
   "source": [
    "**examples of functions that are not linear** absolute and sort functions are not linear, according to superposition principle"
   ]
  },
  {
   "cell_type": "code",
   "execution_count": 18,
   "metadata": {},
   "outputs": [
    {
     "data": {
      "text/plain": [
       "([1, 2], [-1, 2])"
      ]
     },
     "metadata": {},
     "output_type": "display_data"
    }
   ],
   "source": [
    "f(x) = abs.(x)\n",
    "x = [1, 0]; y = [0, 1]; alpha = -1; beta = 2;\n",
    "lhs = f(alpha*x+beta*y)\n",
    "rhs = alpha*f(x)+beta*f(y)\n",
    "lhs,rhs"
   ]
  },
  {
   "cell_type": "code",
   "execution_count": 20,
   "metadata": {},
   "outputs": [
    {
     "data": {
      "text/plain": [
       "([2, -1], [1, 0])"
      ]
     },
     "metadata": {},
     "output_type": "display_data"
    }
   ],
   "source": [
    "f(x) = sort(x, rev = true) # sort in decreasing order\n",
    "lhs = f(alpha*x+beta*y)\n",
    "rhs = alpha*f(x)+beta*f(y)\n",
    "lhs,rhs"
   ]
  },
  {
   "cell_type": "code",
   "execution_count": null,
   "metadata": {},
   "outputs": [],
   "source": []
  }
 ],
 "metadata": {
  "kernelspec": {
   "display_name": "Julia 1.10.4",
   "language": "julia",
   "name": "julia-1.10"
  },
  "language_info": {
   "file_extension": ".jl",
   "mimetype": "application/julia",
   "name": "julia",
   "version": "1.10.4"
  }
 },
 "nbformat": 4,
 "nbformat_minor": 2
}
