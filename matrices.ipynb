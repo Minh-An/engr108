{
 "cells": [
  {
   "cell_type": "markdown",
   "metadata": {},
   "source": [
    "# Chapter 6: Matrices \n",
    "\n",
    "## 6.1 Matrices \n",
    "\n",
    "**Creating matrices from the entries:**"
   ]
  },
  {
   "cell_type": "code",
   "execution_count": 78,
   "metadata": {},
   "outputs": [
    {
     "data": {
      "text/plain": [
       "true"
      ]
     },
     "metadata": {},
     "output_type": "display_data"
    }
   ],
   "source": [
    "A1 = [0.0 1.0 -2.3 .1;\n",
    "     1.3 4.0 -.1 0.0;\n",
    "     4.1 -1.0 0.0 1.7]\n",
    "\n",
    "# same as: \n",
    "A2 = [0.0 1.0 -2.3 .1; 1.3 4.0 -.1 0.0; 4.1 -1.0 0.0 1.7]\n",
    "\n",
    "A1 == A2"
   ]
  },
  {
   "cell_type": "markdown",
   "metadata": {},
   "source": [
    "**Using size of matrix**"
   ]
  },
  {
   "cell_type": "code",
   "execution_count": 79,
   "metadata": {},
   "outputs": [
    {
     "data": {
      "text/plain": [
       "((3, 4), 3, 4)"
      ]
     },
     "metadata": {},
     "output_type": "display_data"
    }
   ],
   "source": [
    "size(A) # total size \n",
    "size(A,1) # rows\n",
    "size(A,2) # cols \n",
    "\n",
    "size(A), size(A,1), size(A,2)"
   ]
  },
  {
   "cell_type": "code",
   "execution_count": 80,
   "metadata": {},
   "outputs": [
    {
     "data": {
      "text/plain": [
       "(3, 4)"
      ]
     },
     "metadata": {},
     "output_type": "display_data"
    }
   ],
   "source": [
    "m, n = size(A)\n",
    "m, n"
   ]
  },
  {
   "cell_type": "code",
   "execution_count": 81,
   "metadata": {},
   "outputs": [
    {
     "data": {
      "text/plain": [
       "(false, true, false)"
      ]
     },
     "metadata": {},
     "output_type": "display_data"
    }
   ],
   "source": [
    "# functions to check what type of matrix \n",
    "\n",
    "tall(X) = size(X,1) > size(X,2)\n",
    "wide(X) = size(X,1) < size(X,2)\n",
    "square(X) = size(X,1) == size(X,2)\n",
    "\n",
    "tall(A), wide(A), square(A)"
   ]
  },
  {
   "cell_type": "markdown",
   "metadata": {},
   "source": [
    "**Indexing entries**"
   ]
  },
  {
   "cell_type": "code",
   "execution_count": 82,
   "metadata": {},
   "outputs": [
    {
     "data": {
      "text/plain": [
       "0"
      ]
     },
     "metadata": {},
     "output_type": "display_data"
    }
   ],
   "source": [
    "A[2,3] # get entry 2,3 of A "
   ]
  },
  {
   "cell_type": "code",
   "execution_count": 83,
   "metadata": {},
   "outputs": [
    {
     "ename": "InexactError",
     "evalue": "InexactError: Int64(7.5)",
     "output_type": "error",
     "traceback": [
      "InexactError: Int64(7.5)\n",
      "\n",
      "Stacktrace:\n",
      " [1] Int64\n",
      "   @ ./float.jl:912 [inlined]\n",
      " [2] convert\n",
      "   @ ./number.jl:7 [inlined]\n",
      " [3] setindex!(::Matrix{Int64}, ::Float64, ::Int64, ::Int64)\n",
      "   @ Base ./array.jl:1024\n",
      " [4] top-level scope\n",
      "   @ ~/sum24/engr108/matrices.ipynb:1"
     ]
    }
   ],
   "source": [
    "A[1,3] = 7.5 # set entry 1,3 of A to 7.5 \n",
    "A"
   ]
  },
  {
   "cell_type": "markdown",
   "metadata": {},
   "source": [
    "**Single index indexing** "
   ]
  },
  {
   "cell_type": "code",
   "execution_count": 84,
   "metadata": {},
   "outputs": [
    {
     "data": {
      "text/plain": [
       "(2, 2)"
      ]
     },
     "metadata": {},
     "output_type": "display_data"
    }
   ],
   "source": [
    "# for row i, col j, you can access matrix Z with a single index like Z[(j-1)*num_rows+j] \n",
    "# elements are ordered as: -1,-1,0,2,2,-3 -> COLUMN MAJOR \n",
    "\n",
    "twod_to_oned(i, j, num_rows) = (j-1)*num_rows+i\n",
    "\n",
    "Z = [-1 0  2;\n",
    "     -1 2 -3]\n",
    "\n",
    "Z[5], Z[twod_to_oned(2, 2, 2)]"
   ]
  },
  {
   "cell_type": "markdown",
   "metadata": {},
   "source": [
    "**Equality of matrices**"
   ]
  },
  {
   "cell_type": "code",
   "execution_count": 85,
   "metadata": {},
   "outputs": [
    {
     "data": {
      "text/plain": [
       "true"
      ]
     },
     "metadata": {},
     "output_type": "display_data"
    }
   ],
   "source": [
    "B = copy(A)\n",
    "A == B"
   ]
  },
  {
   "cell_type": "code",
   "execution_count": 86,
   "metadata": {},
   "outputs": [
    {
     "data": {
      "text/plain": [
       "3×4 Matrix{Int64}:\n",
       " -1  0   1  0\n",
       "  2  0   0  1\n",
       "  0  4  -2  1"
      ]
     },
     "metadata": {},
     "output_type": "display_data"
    }
   ],
   "source": [
    "B[2,2] = 0\n",
    "B"
   ]
  },
  {
   "cell_type": "code",
   "execution_count": 87,
   "metadata": {},
   "outputs": [
    {
     "data": {
      "text/plain": [
       "false"
      ]
     },
     "metadata": {},
     "output_type": "display_data"
    }
   ],
   "source": [
    "A == B # returns whether or not A and B are equal"
   ]
  },
  {
   "cell_type": "code",
   "execution_count": 88,
   "metadata": {},
   "outputs": [
    {
     "data": {
      "text/plain": [
       "3×4 BitMatrix:\n",
       " 1  1  1  1\n",
       " 1  0  1  1\n",
       " 1  1  1  1"
      ]
     },
     "metadata": {},
     "output_type": "display_data"
    }
   ],
   "source": [
    "A .== B # creates a matrix whose entires are bool, depending on whether the corresponding entries are equal"
   ]
  },
  {
   "cell_type": "code",
   "execution_count": 89,
   "metadata": {},
   "outputs": [
    {
     "data": {
      "text/plain": [
       "11"
      ]
     },
     "metadata": {},
     "output_type": "display_data"
    }
   ],
   "source": [
    "sum(A.==B) # gives the number of entires of A and B that are equal"
   ]
  },
  {
   "cell_type": "markdown",
   "metadata": {},
   "source": [
    "**row and column vectors**"
   ]
  },
  {
   "cell_type": "code",
   "execution_count": 90,
   "metadata": {},
   "outputs": [
    {
     "data": {
      "text/plain": [
       "1×3 Matrix{Float64}:\n",
       " -2.1  -3.0  0.0"
      ]
     },
     "metadata": {},
     "output_type": "display_data"
    }
   ],
   "source": [
    "# n-vectors are the same as nx1 martrices\n",
    "\n",
    "a = [-2.1 -3 0] # matrix type"
   ]
  },
  {
   "cell_type": "code",
   "execution_count": 91,
   "metadata": {},
   "outputs": [
    {
     "data": {
      "text/plain": [
       "3-element Vector{Float64}:\n",
       " -2.1\n",
       " -3.0\n",
       "  0.0"
      ]
     },
     "metadata": {},
     "output_type": "display_data"
    }
   ],
   "source": [
    "b = [-2.1; -3; 0] # vector type "
   ]
  },
  {
   "cell_type": "code",
   "execution_count": 92,
   "metadata": {},
   "outputs": [
    {
     "data": {
      "text/plain": [
       "(3,)"
      ]
     },
     "metadata": {},
     "output_type": "display_data"
    }
   ],
   "source": [
    "size(b)"
   ]
  },
  {
   "cell_type": "code",
   "execution_count": 93,
   "metadata": {},
   "outputs": [
    {
     "data": {
      "text/plain": [
       "(1, 3)"
      ]
     },
     "metadata": {},
     "output_type": "display_data"
    }
   ],
   "source": [
    "size(a)"
   ]
  },
  {
   "cell_type": "markdown",
   "metadata": {},
   "source": [
    "**slicing and submatrices**"
   ]
  },
  {
   "cell_type": "code",
   "execution_count": 120,
   "metadata": {},
   "outputs": [
    {
     "data": {
      "text/plain": [
       "3×4 Matrix{Int64}:\n",
       " -1   0   1  0\n",
       "  2  -3   0  1\n",
       "  0   4  -2  1"
      ]
     },
     "metadata": {},
     "output_type": "display_data"
    }
   ],
   "source": [
    "A = [ -1 0 1 0 ; 2 -3 0 1 ; 0 4 -2 1]"
   ]
  },
  {
   "cell_type": "code",
   "execution_count": 95,
   "metadata": {},
   "outputs": [
    {
     "data": {
      "text/plain": [
       "2×2 Matrix{Int64}:\n",
       " 1  0\n",
       " 0  1"
      ]
     },
     "metadata": {},
     "output_type": "display_data"
    }
   ],
   "source": [
    "A[1:2,3:4] # submatrix of a"
   ]
  },
  {
   "cell_type": "code",
   "execution_count": 96,
   "metadata": {},
   "outputs": [
    {
     "data": {
      "text/plain": [
       "3-element Vector{Int64}:\n",
       "  1\n",
       "  0\n",
       " -2"
      ]
     },
     "metadata": {},
     "output_type": "display_data"
    }
   ],
   "source": [
    "A[:,3] # third column of A"
   ]
  },
  {
   "cell_type": "code",
   "execution_count": 102,
   "metadata": {},
   "outputs": [
    {
     "data": {
      "text/plain": [
       "4-element Vector{Int64}:\n",
       "  2\n",
       " -3\n",
       "  0\n",
       "  1"
      ]
     },
     "metadata": {},
     "output_type": "display_data"
    }
   ],
   "source": [
    "A[2,:] # second row of A, return as column vector (transpose of the row)"
   ]
  },
  {
   "cell_type": "code",
   "execution_count": 121,
   "metadata": {},
   "outputs": [
    {
     "data": {
      "text/plain": [
       "3×4 Matrix{Int64}:\n",
       " -1   0   1  0\n",
       "  2  -3   0  1\n",
       "  0   4  -2  1"
      ]
     },
     "metadata": {},
     "output_type": "display_data"
    }
   ],
   "source": [
    "A"
   ]
  },
  {
   "cell_type": "code",
   "execution_count": 123,
   "metadata": {},
   "outputs": [
    {
     "data": {
      "text/plain": [
       "3×4 Matrix{Int64}:\n",
       "  0   4  -2  1\n",
       "  2  -3   0  1\n",
       " -1   0   1  0"
      ]
     },
     "metadata": {},
     "output_type": "display_data"
    }
   ],
   "source": [
    "#A[size(A,1):-1:1, :] # Matrix A with row order reversed\n",
    "A[end:-1:1, :] # Matrix A with row order reversed"
   ]
  },
  {
   "cell_type": "code",
   "execution_count": 124,
   "metadata": {},
   "outputs": [
    {
     "data": {
      "text/plain": [
       "6-element Vector{Int64}:\n",
       "  1\n",
       "  2\n",
       "  1\n",
       " -3\n",
       "  0\n",
       " -2"
      ]
     },
     "metadata": {},
     "output_type": "display_data"
    }
   ],
   "source": [
    "B = [ 1 -3 ; 2 0 ; 1 -2]\n",
    "B[:] # using single indexing, we get a vector of ALL elements of A in column-major"
   ]
  },
  {
   "cell_type": "code",
   "execution_count": 125,
   "metadata": {},
   "outputs": [
    {
     "data": {
      "text/plain": [
       "2×3 Matrix{Int64}:\n",
       " 1   1   0\n",
       " 2  -3  -2"
      ]
     },
     "metadata": {},
     "output_type": "display_data"
    }
   ],
   "source": [
    "reshape(B,(2,3)) # we can reshape B into any shape as long as the dimensions match the # of elements,\n",
    "# reshaping will be by COLUMN-major order"
   ]
  },
  {
   "cell_type": "code",
   "execution_count": 126,
   "metadata": {},
   "outputs": [
    {
     "ename": "DimensionMismatch",
     "evalue": "DimensionMismatch: new dimensions (3, 3) must be consistent with array size 6",
     "output_type": "error",
     "traceback": [
      "DimensionMismatch: new dimensions (3, 3) must be consistent with array size 6\n",
      "\n",
      "Stacktrace:\n",
      " [1] (::Base.var\"#throw_dmrsa#328\")(dims::Tuple{Int64, Int64}, len::Int64)\n",
      "   @ Base ./reshapedarray.jl:41\n",
      " [2] reshape(a::Matrix{Int64}, dims::Tuple{Int64, Int64})\n",
      "   @ Base ./reshapedarray.jl:45\n",
      " [3] top-level scope\n",
      "   @ ~/sum24/engr108/matrices.ipynb:1"
     ]
    }
   ],
   "source": [
    "reshape(B,(3,3))"
   ]
  },
  {
   "cell_type": "markdown",
   "metadata": {},
   "source": [
    "**block matrices**"
   ]
  },
  {
   "cell_type": "code",
   "execution_count": 127,
   "metadata": {},
   "outputs": [
    {
     "data": {
      "text/plain": [
       "3×4 Matrix{Int64}:\n",
       " 0  2  3  -1\n",
       " 2  2  1   4\n",
       " 1  3  5   4"
      ]
     },
     "metadata": {},
     "output_type": "display_data"
    }
   ],
   "source": [
    "# use ; to stack matrices and space to do (horizontal) concatenation \n",
    "\n",
    "B = [ 0 2 3 ]; # 1x3 matrix\n",
    "C = [ -1 ]; # 1x1 matrix\n",
    "D = [ 2 2 1 ; 1 3 5]; # 2x3 matrix\n",
    "E = [4 ; 4 ]; # 2x1 matrix\n",
    "\n",
    "A = [B C;\n",
    "     D E]"
   ]
  },
  {
   "cell_type": "markdown",
   "metadata": {},
   "source": [
    "**column and row interpretation of a matrix**\n",
    "\n",
    "an $m x n$ matrix $A$ can be interpreted as a collection of $n$ $m$-vectors (its columns) or a collection of $m$ $n$-row vectors (its rows) \n",
    "\n",
    "Julia distinguishes between a matrix and an array of vectors\n",
    "-  An array (or a tuple) of column vectors can be converted into a matrix using the horizontal concatenation function `hcat`\n",
    "- `vcat` concatenates an array of arrays vertically. This is useful when constructing a matrix from its row vectors"
   ]
  },
  {
   "cell_type": "code",
   "execution_count": 112,
   "metadata": {},
   "outputs": [
    {
     "data": {
      "text/plain": [
       "2×3 Matrix{Float64}:\n",
       " 1.0  4.0  7.0\n",
       " 2.0  5.0  8.0"
      ]
     },
     "metadata": {},
     "output_type": "display_data"
    }
   ],
   "source": [
    "a = [ [1., 2.], [4., 5.], [7., 8.] ] # array of 2-vectors\n",
    "A = hcat(a...) # ... splits array a into its elements, same as hcat(a[1], a[2], a[3])"
   ]
  },
  {
   "cell_type": "code",
   "execution_count": 134,
   "metadata": {},
   "outputs": [
    {
     "data": {
      "text/plain": [
       "3×2 adjoint(::Matrix{Float64}) with eltype Float64:\n",
       " 1.0  2.0\n",
       " 4.0  5.0\n",
       " 7.0  8.0"
      ]
     },
     "metadata": {},
     "output_type": "display_data"
    }
   ],
   "source": [
    "A = vcat(a...)\n",
    "A = hcat(a...)'"
   ]
  },
  {
   "cell_type": "markdown",
   "metadata": {},
   "source": [
    "## 6.2 Zero and identity matrices"
   ]
  },
  {
   "cell_type": "markdown",
   "metadata": {},
   "source": [
    "**Zero matrices**"
   ]
  },
  {
   "cell_type": "code",
   "execution_count": 135,
   "metadata": {},
   "outputs": [
    {
     "data": {
      "text/plain": [
       "2×2 Matrix{Float64}:\n",
       " 0.0  0.0\n",
       " 0.0  0.0"
      ]
     },
     "metadata": {},
     "output_type": "display_data"
    }
   ],
   "source": [
    "zeros(2,2)"
   ]
  },
  {
   "cell_type": "markdown",
   "metadata": {},
   "source": [
    "**identity matrices**"
   ]
  },
  {
   "cell_type": "code",
   "execution_count": 138,
   "metadata": {},
   "outputs": [
    {
     "data": {
      "text/plain": [
       "4×4 Matrix{Float64}:\n",
       " 1.0  0.0  0.0  0.0\n",
       " 0.0  1.0  0.0  0.0\n",
       " 0.0  0.0  1.0  0.0\n",
       " 0.0  0.0  0.0  1.0"
      ]
     },
     "metadata": {},
     "output_type": "display_data"
    }
   ],
   "source": [
    "eye(n) = 1.0 * Matrix(I, n,n) # * 1.0 turns it from bool to float \n",
    "\n",
    "eye(4)"
   ]
  },
  {
   "cell_type": "markdown",
   "metadata": {},
   "source": [
    "properties of Julia's identity matrix `I`:"
   ]
  },
  {
   "cell_type": "code",
   "execution_count": 143,
   "metadata": {},
   "outputs": [
    {
     "data": {
      "text/plain": [
       "2×3 Matrix{Int64}:\n",
       " 1  -1   2\n",
       " 0   3  -1"
      ]
     },
     "metadata": {},
     "output_type": "display_data"
    }
   ],
   "source": [
    "# can deduce dimensions \n",
    "A = [1 -1 2; 0 3 -1]"
   ]
  },
  {
   "cell_type": "code",
   "execution_count": 144,
   "metadata": {},
   "outputs": [
    {
     "data": {
      "text/plain": [
       "2×5 Matrix{Int64}:\n",
       " 1  -1   2  1  0\n",
       " 0   3  -1  0  1"
      ]
     },
     "metadata": {},
     "output_type": "display_data"
    }
   ],
   "source": [
    "[A I]"
   ]
  },
  {
   "cell_type": "code",
   "execution_count": 142,
   "metadata": {},
   "outputs": [
    {
     "data": {
      "text/plain": [
       "5×3 Matrix{Int64}:\n",
       " 1  -1   2\n",
       " 0   3  -1\n",
       " 1   0   0\n",
       " 0   1   0\n",
       " 0   0   1"
      ]
     },
     "metadata": {},
     "output_type": "display_data"
    }
   ],
   "source": [
    "[A;I]"
   ]
  },
  {
   "cell_type": "code",
   "execution_count": 145,
   "metadata": {},
   "outputs": [
    {
     "data": {
      "text/plain": [
       "2×2 Matrix{Int64}:\n",
       " 1  2\n",
       " 3  4"
      ]
     },
     "metadata": {},
     "output_type": "display_data"
    }
   ],
   "source": [
    "B = [ 1 2 ; 3 4 ]"
   ]
  },
  {
   "cell_type": "code",
   "execution_count": 146,
   "metadata": {},
   "outputs": [
    {
     "data": {
      "text/plain": [
       "2×2 Matrix{Int64}:\n",
       " 2  2\n",
       " 3  5"
      ]
     },
     "metadata": {},
     "output_type": "display_data"
    }
   ],
   "source": [
    "B + I "
   ]
  },
  {
   "cell_type": "code",
   "execution_count": 147,
   "metadata": {},
   "outputs": [
    {
     "data": {
      "text/plain": [
       "5×3 Matrix{Float64}:\n",
       " 1.0  1.0  1.0\n",
       " 1.0  1.0  1.0\n",
       " 1.0  1.0  1.0\n",
       " 1.0  1.0  1.0\n",
       " 1.0  1.0  1.0"
      ]
     },
     "metadata": {},
     "output_type": "display_data"
    }
   ],
   "source": [
    "# ones matrices\n",
    "ones(5,3)"
   ]
  },
  {
   "cell_type": "markdown",
   "metadata": {},
   "source": [
    "**diagonal matrices** "
   ]
  },
  {
   "cell_type": "code",
   "execution_count": 154,
   "metadata": {},
   "outputs": [
    {
     "data": {
      "text/plain": [
       "3×3 Matrix{Int64}:\n",
       " 3  0  0\n",
       " 0  4  0\n",
       " 0  0  5"
      ]
     },
     "metadata": {},
     "output_type": "display_data"
    }
   ],
   "source": [
    "diagm([3,4,5]) # makes diagonal matrix "
   ]
  },
  {
   "cell_type": "code",
   "execution_count": 155,
   "metadata": {},
   "outputs": [
    {
     "data": {
      "text/plain": [
       "2-element Vector{Int64}:\n",
       "  0\n",
       " -1"
      ]
     },
     "metadata": {},
     "output_type": "display_data"
    }
   ],
   "source": [
    "H = [0 1 -2 1; 2 -1 3 0]\n",
    "diag(H) # gets all the diagonal entries of the matrix and puts them into a vector"
   ]
  },
  {
   "cell_type": "markdown",
   "metadata": {},
   "source": [
    "**random matrices**"
   ]
  },
  {
   "cell_type": "code",
   "execution_count": 157,
   "metadata": {},
   "outputs": [
    {
     "data": {
      "text/plain": [
       "3×2 Matrix{Float64}:\n",
       "  0.0147541   0.108395\n",
       "  0.113235    0.600153\n",
       " -0.140001   -0.692441"
      ]
     },
     "metadata": {},
     "output_type": "display_data"
    }
   ],
   "source": [
    "rand(2,3) # uniform \n",
    "randn(3,2) # normal "
   ]
  },
  {
   "cell_type": "markdown",
   "metadata": {},
   "source": [
    "**sparse matrices** "
   ]
  },
  {
   "cell_type": "code",
   "execution_count": 163,
   "metadata": {},
   "outputs": [
    {
     "data": {
      "text/plain": [
       "4×5 SparseMatrixCSC{Float64, Int64} with 6 stored entries:\n",
       " -1.11    ⋅    1.17   ⋅     ⋅ \n",
       "  0.15  -0.1    ⋅     ⋅     ⋅ \n",
       "   ⋅      ⋅   -0.3    ⋅     ⋅ \n",
       "   ⋅      ⋅     ⋅    0.13   ⋅ "
      ]
     },
     "metadata": {},
     "output_type": "display_data"
    }
   ],
   "source": [
    "using SparseArrays\n",
    "\n",
    "rowind = [ 1, 2, 2, 1, 3, 4 ]; # row indexes of nonzeros\n",
    "colind = [ 1, 1, 2, 3, 3, 4 ]; # column indexes\n",
    "values = [-1.11, 0.15, -0.10, 1.17, -0.30, 0.13 ]; # values\n",
    "# above 3 vectors should all have same length\n",
    "\n",
    "A = sparse(rowind, colind, values, 4, 5)"
   ]
  },
  {
   "cell_type": "code",
   "execution_count": 165,
   "metadata": {},
   "outputs": [
    {
     "data": {
      "text/plain": [
       "6"
      ]
     },
     "metadata": {},
     "output_type": "display_data"
    }
   ],
   "source": [
    "nnz(A) # non zero entries"
   ]
  },
  {
   "cell_type": "code",
   "execution_count": 167,
   "metadata": {},
   "outputs": [
    {
     "data": {
      "text/plain": [
       "4×5 Matrix{Float64}:\n",
       " -1.11   0.0   1.17  0.0   0.0\n",
       "  0.15  -0.1   0.0   0.0   0.0\n",
       "  0.0    0.0  -0.3   0.0   0.0\n",
       "  0.0    0.0   0.0   0.13  0.0"
      ]
     },
     "metadata": {},
     "output_type": "display_data"
    }
   ],
   "source": [
    "B = Array(A) # convert to matrix"
   ]
  },
  {
   "cell_type": "code",
   "execution_count": 187,
   "metadata": {},
   "outputs": [
    {
     "data": {
      "text/plain": [
       "3×3 SparseMatrixCSC{Float64, Int64} with 3 stored entries:\n",
       " 1.0   ⋅    ⋅ \n",
       "  ⋅   3.0   ⋅ \n",
       " 2.0   ⋅    ⋅ "
      ]
     },
     "metadata": {},
     "output_type": "display_data"
    }
   ],
   "source": [
    "A = sparse([1, 3, 2, 1], [1, 1, 2, 3], [1.0, 2.0, 3.0, 4.0], 3, 3)\n",
    "B = Array(A)\n",
    "B[1,3] = 0.0\n",
    "sparse(B) # convert back to sparse "
   ]
  },
  {
   "cell_type": "code",
   "execution_count": 174,
   "metadata": {},
   "outputs": [
    {
     "data": {
      "text/plain": [
       "5×5 SparseMatrixCSC{Float64, Int64} with 0 stored entries:\n",
       "  ⋅    ⋅    ⋅    ⋅    ⋅ \n",
       "  ⋅    ⋅    ⋅    ⋅    ⋅ \n",
       "  ⋅    ⋅    ⋅    ⋅    ⋅ \n",
       "  ⋅    ⋅    ⋅    ⋅    ⋅ \n",
       "  ⋅    ⋅    ⋅    ⋅    ⋅ "
      ]
     },
     "metadata": {},
     "output_type": "display_data"
    }
   ],
   "source": [
    "spzeros(5,5) # sparse matrix all 0s "
   ]
  },
  {
   "cell_type": "code",
   "execution_count": 176,
   "metadata": {},
   "outputs": [
    {
     "data": {
      "text/plain": [
       "4×4 SparseMatrixCSC{Float64, Int64} with 4 stored entries:\n",
       " 1.0   ⋅    ⋅    ⋅ \n",
       "  ⋅   1.0   ⋅    ⋅ \n",
       "  ⋅    ⋅   1.0   ⋅ \n",
       "  ⋅    ⋅    ⋅   1.0"
      ]
     },
     "metadata": {},
     "output_type": "display_data"
    }
   ],
   "source": [
    "sparse(1.0I, n,n) # sparse identity "
   ]
  },
  {
   "cell_type": "code",
   "execution_count": 190,
   "metadata": {},
   "outputs": [
    {
     "data": {
      "text/plain": [
       "5×5 SparseMatrixCSC{Float64, Int64} with 5 stored entries:\n",
       " 1.0   ⋅    ⋅    ⋅    ⋅ \n",
       "  ⋅   1.0   ⋅    ⋅    ⋅ \n",
       "  ⋅    ⋅   1.0   ⋅    ⋅ \n",
       "  ⋅    ⋅    ⋅   1.0   ⋅ \n",
       "  ⋅    ⋅    ⋅    ⋅   1.0"
      ]
     },
     "metadata": {},
     "output_type": "display_data"
    }
   ],
   "source": [
    "speyee(n) = sparse(1.0I, n,n) # sparse identity \n",
    "speyee(5)"
   ]
  },
  {
   "cell_type": "code",
   "execution_count": 191,
   "metadata": {},
   "outputs": [
    {
     "data": {
      "text/plain": [
       "3×3 SparseMatrixCSC{Int64, Int64} with 3 stored entries:\n",
       " 1  ⋅  ⋅\n",
       " ⋅  2  ⋅\n",
       " ⋅  ⋅  3"
      ]
     },
     "metadata": {},
     "output_type": "display_data"
    }
   ],
   "source": [
    "spdiagonal([1,2,3])"
   ]
  },
  {
   "cell_type": "code",
   "execution_count": 192,
   "metadata": {},
   "outputs": [
    {
     "data": {
      "text/plain": [
       "3×3 SparseMatrixCSC{Int64, Int64} with 3 stored entries:\n",
       " 1  ⋅  ⋅\n",
       " ⋅  2  ⋅\n",
       " ⋅  ⋅  3"
      ]
     },
     "metadata": {},
     "output_type": "display_data"
    }
   ],
   "source": [
    "spdiagonal2(x) = sparse(diagm(x))\n",
    "spdiagonal2([1,2,3])"
   ]
  },
  {
   "cell_type": "code",
   "execution_count": 198,
   "metadata": {},
   "outputs": [
    {
     "data": {
      "text/plain": [
       "3×3 SparseMatrixCSC{Int64, Int64} with 3 stored entries:\n",
       " 1  ⋅  ⋅\n",
       " ⋅  2  ⋅\n",
       " ⋅  ⋅  3"
      ]
     },
     "metadata": {},
     "output_type": "display_data"
    }
   ],
   "source": [
    "spdiagonal3(x) = sparse([1:length(x);], [1:length(x);], x, length(x), length(x))\n",
    "spdiagonal3([1,2,3])"
   ]
  },
  {
   "cell_type": "code",
   "execution_count": 202,
   "metadata": {},
   "outputs": [
    {
     "data": {
      "text/plain": [
       "10000×10000 SparseMatrixCSC{Float64, Int64} with 9 stored entries:\n",
       "⎡⠀⠀⠀⠀⠀⠀⠀⠀⠀⠀⠀⠀⠀⠀⠀⠀⠀⠀⠀⠀⠀⠀⠀⠀⠀⠀⠀⠀⠀⠀⠀⠀⠀⠀⠀⠀⠀⠀⠀⠀⎤\n",
       "⎢⠀⠀⠀⠀⠀⠀⠀⠀⠀⠀⠀⠀⠀⠀⠀⠀⠀⠀⠀⠀⠀⠀⠀⠀⠀⠀⠀⠀⠀⠀⠀⠀⠀⠀⠀⠀⠀⠀⠀⠀⎥\n",
       "⎢⠀⠀⠀⠀⠀⠀⠀⠀⠀⠀⠀⠀⠀⠀⠀⠀⠀⠀⠀⠀⠀⠀⠈⠀⠀⠀⠀⠀⠀⠀⠀⠀⠀⠀⠀⠀⠀⠀⠀⠀⎥\n",
       "⎢⠀⠀⠀⠀⠀⠀⠀⠀⠀⠀⠀⠀⠀⠀⠀⠀⠀⠀⠀⠀⠀⠀⠀⠀⠀⠀⠀⠀⠀⠀⠀⠀⠀⠀⠀⠀⠀⠀⠀⠀⎥\n",
       "⎢⠀⠀⠀⠀⠀⠀⠀⠀⠀⠀⠀⠀⠀⠀⠀⠀⠀⠀⠠⠀⠀⠀⠀⠀⠀⠀⠀⠀⠀⠀⠀⠀⠀⠀⠀⠀⠀⠀⠀⠀⎥\n",
       "⎢⠀⠀⠀⠀⠀⠀⠀⠀⠀⠀⠀⠀⠀⠀⠀⠀⠀⠀⠀⠀⠀⠀⠀⠀⠀⠀⠀⠀⠀⠀⠀⠀⠀⠀⠀⠀⠀⠀⠀⠀⎥\n",
       "⎢⠀⠀⠀⠀⠀⠀⠀⠀⠀⠀⠀⠀⠀⠀⠀⠀⠀⠀⠀⠀⠀⠀⠀⠀⠀⠀⠀⠀⠀⠀⠀⠀⠀⠀⠀⠀⠀⠀⠀⠀⎥\n",
       "⎢⠀⠀⠀⠀⠀⠀⠀⠀⠀⠀⠀⠀⠀⠀⠀⠀⠀⠀⠀⠀⠀⠀⠀⠀⠀⠀⠀⠀⠀⠀⠀⠀⠀⠀⠀⠀⠀⠀⠀⠀⎥\n",
       "⎢⠀⠀⠀⠀⠀⠀⠀⠀⠀⠀⠀⠀⠀⠀⠀⠀⠀⠀⠀⠀⠀⠀⠀⠀⠀⠀⠀⠀⠀⠀⠀⠀⠀⠀⠀⠀⠀⠀⠀⠀⎥\n",
       "⎢⠀⠀⠀⠀⠀⠀⠀⠀⠀⠀⠀⠀⠀⠀⠀⠀⠀⠀⠀⠀⠀⠀⠀⠀⠀⠀⠀⠀⠀⠀⠀⠀⠀⠀⠀⠀⠀⠀⠀⠄⎥\n",
       "⎢⠀⠀⠀⠀⠀⠀⠀⠀⠀⠀⠀⠀⠀⠀⠀⠀⠀⠀⠀⠀⠀⠀⠀⠀⠀⠀⠀⠀⠀⠀⠀⠀⠀⠀⠀⠀⠀⠀⠀⠀⎥\n",
       "⎢⠀⠀⠀⠀⠀⠀⠀⠀⠀⠀⠀⠀⠀⠀⠀⠀⠀⠀⠀⠀⠀⠁⠀⠐⠀⠀⠀⠀⠀⠀⠀⠀⠀⠀⠀⠀⠀⠀⠀⠀⎥\n",
       "⎢⠀⠀⠀⠀⠀⠀⠀⠀⠀⠀⠠⠀⠀⠀⠀⠀⠀⠀⠀⠀⠀⠀⠀⠀⠀⠀⠀⠀⠀⠀⠀⠀⠀⠀⠀⠀⠀⠀⠀⠀⎥\n",
       "⎢⠀⠀⠀⠀⠀⠀⠀⠀⠀⠀⠀⠀⠀⠀⠀⠀⠀⠀⠀⠀⠀⠀⠀⠀⠀⠀⠀⠀⠀⠀⠠⠀⠀⠀⠀⠀⠀⠀⠀⠀⎥\n",
       "⎢⠀⠀⠀⠀⠀⠀⠀⠀⠀⠀⠀⠀⠀⠀⠀⠀⠀⠀⠀⠀⠀⠀⠀⠀⠀⠀⠀⠀⠀⠀⠀⠀⠀⠀⠀⠀⠀⠀⠀⠀⎥\n",
       "⎢⠀⠀⠀⠀⠀⠀⠀⠀⠀⠀⠀⠀⠀⠀⠀⠀⠀⠀⢀⠀⠀⠀⠀⠀⠀⠀⠀⠀⠀⠀⠀⠀⠀⠀⠀⠀⠀⠀⠀⠀⎥\n",
       "⎢⠀⠀⠀⠀⠀⠀⠀⠀⠀⠀⠀⠀⠀⠀⠀⠀⠀⠀⠀⠀⠀⠀⠀⠀⠀⠀⠀⠀⠀⠀⠀⠀⠀⠀⠀⠀⠀⠀⠀⠀⎥\n",
       "⎢⠀⠀⠀⠁⠀⠀⠀⠀⠀⠀⠀⠀⠀⠀⠀⠀⠀⠀⠀⠀⠀⠀⠀⠀⠀⠀⠀⠀⠀⠀⠀⠀⠀⠀⠀⠀⠀⠀⠀⠀⎥\n",
       "⎢⠀⠀⠀⠀⠀⠀⠀⠀⠀⠀⠀⠀⠀⠀⠀⠀⠀⠀⠀⠀⠀⠀⠀⠀⠀⠀⠀⠀⠀⠀⠀⠀⠀⠀⠀⠀⠀⠀⠀⠀⎥\n",
       "⎣⠀⠀⠀⠀⠀⠀⠀⠀⠀⠀⠀⠀⠀⠀⠀⠀⠀⠀⠀⠀⠀⠀⠀⠀⠀⠀⠀⠀⠀⠀⠀⠀⠀⠀⠀⠀⠀⠀⠀⠀⎦"
      ]
     },
     "metadata": {},
     "output_type": "display_data"
    }
   ],
   "source": [
    "# d is density \n",
    "# sprand(m,n,d) , sprandn(m,n,d)\n",
    "# The nonzero entries are chosen randomly, with about mnd of them nonzero.\n",
    "A = sprand(10000,10000,10^-7)"
   ]
  },
  {
   "cell_type": "markdown",
   "metadata": {},
   "source": [
    "## 6.3 Transpose, addition, and norm"
   ]
  },
  {
   "cell_type": "markdown",
   "metadata": {},
   "source": [
    "**transpose**"
   ]
  },
  {
   "cell_type": "code",
   "execution_count": 204,
   "metadata": {},
   "outputs": [
    {
     "data": {
      "text/plain": [
       "2×4 Matrix{Int64}:\n",
       " 0   1  -2  1\n",
       " 2  -1   3  0"
      ]
     },
     "metadata": {},
     "output_type": "display_data"
    }
   ],
   "source": [
    "# A' is the transpose of A\n",
    "H = [0 1 -2 1; 2 -1 3 0]"
   ]
  },
  {
   "cell_type": "code",
   "execution_count": 205,
   "metadata": {},
   "outputs": [
    {
     "data": {
      "text/plain": [
       "4×2 adjoint(::Matrix{Int64}) with eltype Int64:\n",
       "  0   2\n",
       "  1  -1\n",
       " -2   3\n",
       "  1   0"
      ]
     },
     "metadata": {},
     "output_type": "display_data"
    }
   ],
   "source": [
    "H'"
   ]
  },
  {
   "cell_type": "markdown",
   "metadata": {},
   "source": [
    "**addition, subtraction, and scalar multiplication**\n",
    "\n",
    "uses standard mathematical notation"
   ]
  },
  {
   "cell_type": "code",
   "execution_count": 206,
   "metadata": {},
   "outputs": [
    {
     "data": {
      "text/plain": [
       "3×2 Matrix{Int64}:\n",
       " 1  6\n",
       " 9  3\n",
       " 3  5"
      ]
     },
     "metadata": {},
     "output_type": "display_data"
    }
   ],
   "source": [
    "U = [ 0 4; 7 0; 3 1]\n",
    "V = [ 1 2; 2 3; 0 4]\n",
    "\n",
    "U+V"
   ]
  },
  {
   "cell_type": "code",
   "execution_count": 209,
   "metadata": {},
   "outputs": [
    {
     "data": {
      "text/plain": [
       "3×2 Matrix{Float64}:\n",
       "  0.0  8.8\n",
       " 15.4  0.0\n",
       "  6.6  2.2"
      ]
     },
     "metadata": {},
     "output_type": "display_data"
    }
   ],
   "source": [
    "2.2*U \n",
    "\n",
    "# we can also multiply a matrix on the right by a scalar\n",
    "U*2.2"
   ]
  },
  {
   "cell_type": "markdown",
   "metadata": {},
   "source": [
    "**elementwise operation**\n",
    "\n",
    "Julia supports some operations that are not standard mathematical ones. \\\n",
    "For example, in Julia you can add or subtract a constant from a matrix, which carries out the operation on each entry.\n",
    "\n",
    "Or elementwise multiply each element of A with respective element of B is A .* B"
   ]
  },
  {
   "cell_type": "code",
   "execution_count": 212,
   "metadata": {},
   "outputs": [
    {
     "data": {
      "text/plain": [
       "3×2 Matrix{Float64}:\n",
       "    1.0     54.5982\n",
       " 1096.63     1.0\n",
       "   20.0855   2.71828"
      ]
     },
     "metadata": {},
     "output_type": "display_data"
    }
   ],
   "source": [
    "exp.(U)"
   ]
  },
  {
   "cell_type": "code",
   "execution_count": 213,
   "metadata": {},
   "outputs": [
    {
     "data": {
      "text/plain": [
       "3×2 Matrix{Int64}:\n",
       "  0  8\n",
       " 14  0\n",
       "  0  4"
      ]
     },
     "metadata": {},
     "output_type": "display_data"
    }
   ],
   "source": [
    "U .* V"
   ]
  },
  {
   "cell_type": "code",
   "execution_count": 214,
   "metadata": {},
   "outputs": [
    {
     "data": {
      "text/plain": [
       "3×2 Matrix{Float64}:\n",
       " 2.2  6.2\n",
       " 9.2  2.2\n",
       " 5.2  3.2"
      ]
     },
     "metadata": {},
     "output_type": "display_data"
    }
   ],
   "source": [
    "2.2 .+ U"
   ]
  },
  {
   "cell_type": "markdown",
   "metadata": {},
   "source": [
    "**matrix norm**\n",
    "\n",
    "\\begin{align}\n",
    "||A|| &= (\\Sigma_{i=1}^{m}\\Sigma_{j=1}^{n}A_{ij}^2)^{1/2}\n",
    "\\end{align}\n",
    "\n",
    "often written as $||A||_F$"
   ]
  },
  {
   "cell_type": "code",
   "execution_count": 220,
   "metadata": {},
   "outputs": [
    {
     "data": {
      "text/plain": [
       "(5.5677643628300215, 5.5677643628300215, 5.5677643628300215)"
      ]
     },
     "metadata": {},
     "output_type": "display_data"
    }
   ],
   "source": [
    "A = [2 3 -1; 0 -1 4]\n",
    "using LinearAlgebra\n",
    "norm(A),sqrt(sum(A.^2)), norm(A[:]) # same as the norm of the vector consisting of all elements of A (flattened A)\n"
   ]
  },
  {
   "cell_type": "markdown",
   "metadata": {},
   "source": [
    "**triangle inequality**\n",
    "\n",
    "for matrices: $||A+B|| \\leq ||A||+||B||$"
   ]
  },
  {
   "cell_type": "code",
   "execution_count": 221,
   "metadata": {},
   "outputs": [
    {
     "data": {
      "text/plain": [
       "(4.69041575982343, 7.795831523312719)"
      ]
     },
     "metadata": {},
     "output_type": "display_data"
    }
   ],
   "source": [
    "A = [-1 0; 2 2]; B = [3 1; -3 2];\n",
    "norm(A + B), norm(A) + norm(B)"
   ]
  },
  {
   "cell_type": "code",
   "execution_count": 223,
   "metadata": {},
   "outputs": [
    {
     "data": {
      "text/plain": [
       "true"
      ]
     },
     "metadata": {},
     "output_type": "display_data"
    }
   ],
   "source": [
    "norm(A+B) <= norm(A) + norm(B)"
   ]
  },
  {
   "cell_type": "markdown",
   "metadata": {},
   "source": [
    "## 6.4 matrix-vector multiplication"
   ]
  },
  {
   "cell_type": "code",
   "execution_count": 224,
   "metadata": {},
   "outputs": [
    {
     "data": {
      "text/plain": [
       "2-element Vector{Int64}:\n",
       "  3\n",
       " -4"
      ]
     },
     "metadata": {},
     "output_type": "display_data"
    }
   ],
   "source": [
    "A = [0 2 -1; -2 1 1]\n",
    "x = [2, 1, -1]\n",
    "\n",
    "A*x"
   ]
  },
  {
   "cell_type": "markdown",
   "metadata": {},
   "source": [
    "**difference matrix**\n",
    "\n",
    "$(n-1)\\times n$ matrix : \n",
    "\n",
    "\\begin{align}\n",
    "D &= \\begin{bmatrix}\n",
    "-1 & 1 & 0 & \\dots & 0 & 0 & 0 \\\\\n",
    "\\\\\n",
    "0 & -1 & 1 & \\dots & 0 & 0 & 0 \\\\\n",
    "\\\\\n",
    "  &    & \\ddots & \\ddots \\\\\n",
    "  \\\\\n",
    " & & & \\ddots & \\ddots \\\\\n",
    " \\\\\n",
    " 0 & 0 & 0 & \\dots & -1 & 1 & 0 \\\\\n",
    " \\\\\n",
    " 0 & 0 & 0 & \\dots & 0 & -1 & 1 \\\\\n",
    "\\end{bmatrix}\n",
    "\n",
    "\\end{align}"
   ]
  },
  {
   "cell_type": "code",
   "execution_count": 234,
   "metadata": {},
   "outputs": [
    {
     "data": {
      "text/plain": [
       "3×4 SparseMatrixCSC{Float64, Int64} with 6 stored entries:\n",
       " -1.0   1.0    ⋅    ⋅ \n",
       "   ⋅   -1.0   1.0   ⋅ \n",
       "   ⋅     ⋅   -1.0  1.0"
      ]
     },
     "metadata": {},
     "output_type": "display_data"
    }
   ],
   "source": [
    "difference_matrix(n) = [-eye(n-1) zeros(n-1)] + [zeros(n-1) eye(n-1)];\n",
    "# can also represent as sparse matrix \n",
    "sparse_difference_matrix(n) = [-speye(n-1) spzeros(n-1)] + [spzeros(n-1) speye(n-1)];\n",
    "\n",
    "\n",
    "D = difference_matrix(4)\n",
    "spD = sparse_difference_matrix(4)"
   ]
  },
  {
   "cell_type": "code",
   "execution_count": 235,
   "metadata": {},
   "outputs": [
    {
     "data": {
      "text/plain": [
       "3-element Vector{Float64}:\n",
       "  1.0\n",
       "  2.0\n",
       " -1.0"
      ]
     },
     "metadata": {},
     "output_type": "display_data"
    }
   ],
   "source": [
    "D*[-1,0,2,1]"
   ]
  },
  {
   "cell_type": "code",
   "execution_count": 236,
   "metadata": {},
   "outputs": [
    {
     "data": {
      "text/plain": [
       "3-element Vector{Float64}:\n",
       "  1.0\n",
       "  2.0\n",
       " -1.0"
      ]
     },
     "metadata": {},
     "output_type": "display_data"
    }
   ],
   "source": [
    "spD*[-1,0,2,1]"
   ]
  },
  {
   "cell_type": "markdown",
   "metadata": {},
   "source": [
    "**running sum matrix** \n",
    "\n",
    "lower trianglular $n \\times n$ matrix : elements on and below the diagonal = 1\n",
    "\\begin{align}\n",
    "S &= \\begin{bmatrix}\n",
    "1 & 0 & 0 & \\dots & 0 & 0 & 0 \\\\\n",
    "\\\\\n",
    "1 & 1 & 0 & \\dots & 0 & 0 & 0 \\\\\n",
    "\\\\\n",
    "  &    & \\ddots & \\ddots \\\\\n",
    "  \\\\\n",
    " & & & \\ddots & \\ddots \\\\\n",
    " \\\\\n",
    " 1 & 1 & 1 & \\dots & 1 & 1 & 0 \\\\\n",
    " \\\\\n",
    " 1 & 1 & 1 & \\dots & 1 & 1 & 1 \\\\\n",
    "\\end{bmatrix}\n",
    "\\end{align}"
   ]
  },
  {
   "cell_type": "code",
   "execution_count": 241,
   "metadata": {},
   "outputs": [
    {
     "data": {
      "text/plain": [
       "4×4 Matrix{Float64}:\n",
       " 1.0  0.0  0.0  0.0\n",
       " 1.0  1.0  0.0  0.0\n",
       " 1.0  1.0  1.0  0.0\n",
       " 1.0  1.0  1.0  1.0"
      ]
     },
     "metadata": {},
     "output_type": "display_data"
    }
   ],
   "source": [
    "function running_sum(n)\n",
    "    S = zeros(n,n)\n",
    "    for i=1:n\n",
    "        for j=1:i\n",
    "            S[i,j]=1\n",
    "        end\n",
    "    end\n",
    "    return S\n",
    "end\n",
    "\n",
    "S = running_sum(4)"
   ]
  },
  {
   "cell_type": "code",
   "execution_count": 242,
   "metadata": {},
   "outputs": [
    {
     "data": {
      "text/plain": [
       "4-element Vector{Float64}:\n",
       " -1.0\n",
       "  0.0\n",
       "  2.0\n",
       "  2.0"
      ]
     },
     "metadata": {},
     "output_type": "display_data"
    }
   ],
   "source": [
    "S*[-1,1,2,0]"
   ]
  },
  {
   "cell_type": "code",
   "execution_count": 243,
   "metadata": {},
   "outputs": [
    {
     "data": {
      "text/plain": [
       "4×4 Matrix{Float64}:\n",
       " 1.0  0.0  0.0  0.0\n",
       " 1.0  1.0  0.0  0.0\n",
       " 1.0  1.0  1.0  0.0\n",
       " 1.0  1.0  1.0  1.0"
      ]
     },
     "metadata": {},
     "output_type": "display_data"
    }
   ],
   "source": [
    "# alternative \n",
    "running_sum2(n) = tril(ones(n,n)) # tril sets elements above the diagonal to zero\n",
    "running_sum2(4)"
   ]
  },
  {
   "cell_type": "markdown",
   "metadata": {},
   "source": [
    "**vandermonde matrix**\n",
    "\n",
    "*polynomial evaluation at multiple points*: \\\\\n",
    "entries of n-vector $c$ are coefficients of polynomial degree $n-1$ or less: \n",
    "\\begin{align}\n",
    "p(t) &= c_1 + c_2t + \\dots + c_{n-1}t^{n-2} + c_{n}t^{n-1}\n",
    "\\end{align}\n",
    "\n",
    "Let $t_1,\\dots ,t_m$ be $m$ numbers and $m$-vector $y$ where $y_i = p(t_i)$. \\\n",
    "Then, we have $y = Ac$, where A is $m \\times n$ matrix:\n",
    "\n",
    "\\begin{align}\n",
    "A &= \\begin{bmatrix}\n",
    "1 & t_1 & \\dots & t_1^{n-2} & t_1^{n-1} \\\\\n",
    "1 & t_2 & \\dots & t_2^{n-2} & t_2^{n-1} \\\\\n",
    "\\vdots  & \\vdots   & & \\vdots & \\vdots \\\\\n",
    "\\vdots  & \\vdots   & & \\vdots & \\vdots \\\\\n",
    "1 & t_m & \\dots & t_m^{n-2} & t_m^{n-1} \\\\\n",
    "\\end{bmatrix}\n",
    "\\end{align}\n",
    "\n",
    "Mutliplying vector $c$ by this matrix $A$ is the same as evaluating a polynomial w coefficients $c$ at $m$ points."
   ]
  },
  {
   "cell_type": "code",
   "execution_count": 245,
   "metadata": {},
   "outputs": [
    {
     "data": {
      "text/plain": [
       "4×5 Matrix{Float64}:\n",
       " 1.0  -1.0  1.0   -1.0    1.0\n",
       " 1.0   0.0  0.0    0.0    0.0\n",
       " 1.0   0.5  0.25   0.125  0.0625\n",
       " 1.0   1.0  1.0    1.0    1.0"
      ]
     },
     "metadata": {},
     "output_type": "display_data"
    }
   ],
   "source": [
    "# takes m-vector t and number n (polynomial degree n-1) \n",
    "function vandermonde(t, n) \n",
    "    m = length(t)\n",
    "    V = zeros(m,n)\n",
    "    for i=1:m\n",
    "        for j=1:n\n",
    "            V[i,j] = t[i]^(j-1)\n",
    "        end\n",
    "    end\n",
    "    return V\n",
    "end\n",
    "\n",
    "vandermonde([-1,0,0.5,1],5)"
   ]
  },
  {
   "cell_type": "code",
   "execution_count": 247,
   "metadata": {},
   "outputs": [
    {
     "data": {
      "text/plain": [
       "4×5 Matrix{Float64}:\n",
       " 1.0  -1.0  1.0   -1.0    1.0\n",
       " 1.0   0.0  0.0    0.0    0.0\n",
       " 1.0   0.5  0.25   0.125  0.0625\n",
       " 1.0   1.0  1.0    1.0    1.0"
      ]
     },
     "metadata": {},
     "output_type": "display_data"
    }
   ],
   "source": [
    "# alternative, use hcat \n",
    "vandermonde2(t,n) = hcat([t.^i for i=0:n-1]...)\n",
    "vandermonde2([-1,0,0.5,1],5)"
   ]
  },
  {
   "cell_type": "code",
   "execution_count": 248,
   "metadata": {},
   "outputs": [
    {
     "data": {
      "text/plain": [
       "true"
      ]
     },
     "metadata": {},
     "output_type": "display_data"
    }
   ],
   "source": [
    "vandermonde([-1,0,0.5,1],5) == vandermonde2([-1,0,0.5,1],5)"
   ]
  },
  {
   "cell_type": "markdown",
   "metadata": {},
   "source": [
    "## 6.5 complexity\n",
    "\n",
    "**complexity of matrix-vector multiplication** should be 2mn flops (grows linearly with both m and n)"
   ]
  },
  {
   "cell_type": "code",
   "execution_count": 272,
   "metadata": {},
   "outputs": [
    {
     "name": "stdout",
     "output_type": "stream",
     "text": [
      "1000, 10000\n",
      "  0.002860 seconds (1 allocation: 8.000 KiB)\n",
      "500, 20000\n",
      "  0.003104 seconds (1 allocation: 4.125 KiB)\n",
      "5000, 20000\n",
      "  0.030038 seconds (2 allocations: 39.172 KiB)\n"
     ]
    }
   ],
   "source": [
    "m = 1000; n = 10000;\n",
    "println(m, \", \", n)\n",
    "A = rand(m,n); x = rand(n);\n",
    "@time y = A*x;\n",
    "m = Int(m / 2); n = n * 2; # should be same time\n",
    "println(m, \", \", n)\n",
    "A = rand(m,n); x = rand(n);\n",
    "@time y = A*x;\n",
    "m = 5000; # should increase by factor of 10\n",
    "println(m, \", \", n)\n",
    "A = rand(m,n); x = rand(n);\n",
    "@time y = A*x;"
   ]
  },
  {
   "cell_type": "code",
   "execution_count": 277,
   "metadata": {},
   "outputs": [
    {
     "name": "stdout",
     "output_type": "stream",
     "text": [
      "  0.013955 seconds (2 allocations: 78.172 KiB)\n",
      "  0.000027 seconds (2 allocations: 78.172 KiB)\n"
     ]
    }
   ],
   "source": [
    "# increase of efficiency in sparse matrices \n",
    "n = 10^4;\n",
    "D = [-eye(n-1) zeros(n-1)] + [zeros(n-1) eye(n-1)];\n",
    "x = randn(n);\n",
    "@time y=D*x;\n",
    "Ds = [-speye(n-1) spzeros(n-1)] + [spzeros(n-1) speye(n-1)];\n",
    "@time y=Ds*x;"
   ]
  },
  {
   "cell_type": "code",
   "execution_count": 281,
   "metadata": {},
   "outputs": [
    {
     "data": {
      "text/plain": [
       "19998"
      ]
     },
     "metadata": {},
     "output_type": "display_data"
    }
   ],
   "source": [
    "using SparseArrays\n",
    "nnz(Ds)"
   ]
  },
  {
   "cell_type": "code",
   "execution_count": null,
   "metadata": {},
   "outputs": [],
   "source": []
  }
 ],
 "metadata": {
  "kernelspec": {
   "display_name": "Julia 1.10.4",
   "language": "julia",
   "name": "julia-1.10"
  },
  "language_info": {
   "file_extension": ".jl",
   "mimetype": "application/julia",
   "name": "julia",
   "version": "1.10.4"
  }
 },
 "nbformat": 4,
 "nbformat_minor": 2
}
