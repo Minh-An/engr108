{
 "cells": [
  {
   "cell_type": "markdown",
   "metadata": {},
   "source": [
    "# Chapter 6: Matrices \n",
    "\n",
    "## 6.1 Matrices \n",
    "\n",
    "**Creating matrices from the entries:**"
   ]
  },
  {
   "cell_type": "code",
   "execution_count": 78,
   "metadata": {},
   "outputs": [
    {
     "data": {
      "text/plain": [
       "true"
      ]
     },
     "metadata": {},
     "output_type": "display_data"
    }
   ],
   "source": [
    "A1 = [0.0 1.0 -2.3 .1;\n",
    "     1.3 4.0 -.1 0.0;\n",
    "     4.1 -1.0 0.0 1.7]\n",
    "\n",
    "# same as: \n",
    "A2 = [0.0 1.0 -2.3 .1; 1.3 4.0 -.1 0.0; 4.1 -1.0 0.0 1.7]\n",
    "\n",
    "A1 == A2"
   ]
  },
  {
   "cell_type": "markdown",
   "metadata": {},
   "source": [
    "**Using size of matrix**"
   ]
  },
  {
   "cell_type": "code",
   "execution_count": 79,
   "metadata": {},
   "outputs": [
    {
     "data": {
      "text/plain": [
       "((3, 4), 3, 4)"
      ]
     },
     "metadata": {},
     "output_type": "display_data"
    }
   ],
   "source": [
    "size(A) # total size \n",
    "size(A,1) # rows\n",
    "size(A,2) # cols \n",
    "\n",
    "size(A), size(A,1), size(A,2)"
   ]
  },
  {
   "cell_type": "code",
   "execution_count": 80,
   "metadata": {},
   "outputs": [
    {
     "data": {
      "text/plain": [
       "(3, 4)"
      ]
     },
     "metadata": {},
     "output_type": "display_data"
    }
   ],
   "source": [
    "m, n = size(A)\n",
    "m, n"
   ]
  },
  {
   "cell_type": "code",
   "execution_count": 81,
   "metadata": {},
   "outputs": [
    {
     "data": {
      "text/plain": [
       "(false, true, false)"
      ]
     },
     "metadata": {},
     "output_type": "display_data"
    }
   ],
   "source": [
    "# functions to check what type of matrix \n",
    "\n",
    "tall(X) = size(X,1) > size(X,2)\n",
    "wide(X) = size(X,1) < size(X,2)\n",
    "square(X) = size(X,1) == size(X,2)\n",
    "\n",
    "tall(A), wide(A), square(A)"
   ]
  },
  {
   "cell_type": "markdown",
   "metadata": {},
   "source": [
    "**Indexing entries**"
   ]
  },
  {
   "cell_type": "code",
   "execution_count": 82,
   "metadata": {},
   "outputs": [
    {
     "data": {
      "text/plain": [
       "0"
      ]
     },
     "metadata": {},
     "output_type": "display_data"
    }
   ],
   "source": [
    "A[2,3] # get entry 2,3 of A "
   ]
  },
  {
   "cell_type": "code",
   "execution_count": 83,
   "metadata": {},
   "outputs": [
    {
     "ename": "InexactError",
     "evalue": "InexactError: Int64(7.5)",
     "output_type": "error",
     "traceback": [
      "InexactError: Int64(7.5)\n",
      "\n",
      "Stacktrace:\n",
      " [1] Int64\n",
      "   @ ./float.jl:912 [inlined]\n",
      " [2] convert\n",
      "   @ ./number.jl:7 [inlined]\n",
      " [3] setindex!(::Matrix{Int64}, ::Float64, ::Int64, ::Int64)\n",
      "   @ Base ./array.jl:1024\n",
      " [4] top-level scope\n",
      "   @ ~/sum24/engr108/matrices.ipynb:1"
     ]
    }
   ],
   "source": [
    "A[1,3] = 7.5 # set entry 1,3 of A to 7.5 \n",
    "A"
   ]
  },
  {
   "cell_type": "markdown",
   "metadata": {},
   "source": [
    "**Single index indexing** "
   ]
  },
  {
   "cell_type": "code",
   "execution_count": 84,
   "metadata": {},
   "outputs": [
    {
     "data": {
      "text/plain": [
       "(2, 2)"
      ]
     },
     "metadata": {},
     "output_type": "display_data"
    }
   ],
   "source": [
    "# for row i, col j, you can access matrix Z with a single index like Z[(j-1)*num_rows+j] \n",
    "# elements are ordered as: -1,-1,0,2,2,-3 -> COLUMN MAJOR \n",
    "\n",
    "twod_to_oned(i, j, num_rows) = (j-1)*num_rows+i\n",
    "\n",
    "Z = [-1 0  2;\n",
    "     -1 2 -3]\n",
    "\n",
    "Z[5], Z[twod_to_oned(2, 2, 2)]"
   ]
  },
  {
   "cell_type": "markdown",
   "metadata": {},
   "source": [
    "**Equality of matrices**"
   ]
  },
  {
   "cell_type": "code",
   "execution_count": 85,
   "metadata": {},
   "outputs": [
    {
     "data": {
      "text/plain": [
       "true"
      ]
     },
     "metadata": {},
     "output_type": "display_data"
    }
   ],
   "source": [
    "B = copy(A)\n",
    "A == B"
   ]
  },
  {
   "cell_type": "code",
   "execution_count": 86,
   "metadata": {},
   "outputs": [
    {
     "data": {
      "text/plain": [
       "3×4 Matrix{Int64}:\n",
       " -1  0   1  0\n",
       "  2  0   0  1\n",
       "  0  4  -2  1"
      ]
     },
     "metadata": {},
     "output_type": "display_data"
    }
   ],
   "source": [
    "B[2,2] = 0\n",
    "B"
   ]
  },
  {
   "cell_type": "code",
   "execution_count": 87,
   "metadata": {},
   "outputs": [
    {
     "data": {
      "text/plain": [
       "false"
      ]
     },
     "metadata": {},
     "output_type": "display_data"
    }
   ],
   "source": [
    "A == B # returns whether or not A and B are equal"
   ]
  },
  {
   "cell_type": "code",
   "execution_count": 88,
   "metadata": {},
   "outputs": [
    {
     "data": {
      "text/plain": [
       "3×4 BitMatrix:\n",
       " 1  1  1  1\n",
       " 1  0  1  1\n",
       " 1  1  1  1"
      ]
     },
     "metadata": {},
     "output_type": "display_data"
    }
   ],
   "source": [
    "A .== B # creates a matrix whose entires are bool, depending on whether the corresponding entries are equal"
   ]
  },
  {
   "cell_type": "code",
   "execution_count": 89,
   "metadata": {},
   "outputs": [
    {
     "data": {
      "text/plain": [
       "11"
      ]
     },
     "metadata": {},
     "output_type": "display_data"
    }
   ],
   "source": [
    "sum(A.==B) # gives the number of entires of A and B that are equal"
   ]
  },
  {
   "cell_type": "markdown",
   "metadata": {},
   "source": [
    "**row and column vectors**"
   ]
  },
  {
   "cell_type": "code",
   "execution_count": 90,
   "metadata": {},
   "outputs": [
    {
     "data": {
      "text/plain": [
       "1×3 Matrix{Float64}:\n",
       " -2.1  -3.0  0.0"
      ]
     },
     "metadata": {},
     "output_type": "display_data"
    }
   ],
   "source": [
    "# n-vectors are the same as nx1 martrices\n",
    "\n",
    "a = [-2.1 -3 0] # matrix type"
   ]
  },
  {
   "cell_type": "code",
   "execution_count": 91,
   "metadata": {},
   "outputs": [
    {
     "data": {
      "text/plain": [
       "3-element Vector{Float64}:\n",
       " -2.1\n",
       " -3.0\n",
       "  0.0"
      ]
     },
     "metadata": {},
     "output_type": "display_data"
    }
   ],
   "source": [
    "b = [-2.1; -3; 0] # vector type "
   ]
  },
  {
   "cell_type": "code",
   "execution_count": 92,
   "metadata": {},
   "outputs": [
    {
     "data": {
      "text/plain": [
       "(3,)"
      ]
     },
     "metadata": {},
     "output_type": "display_data"
    }
   ],
   "source": [
    "size(b)"
   ]
  },
  {
   "cell_type": "code",
   "execution_count": 93,
   "metadata": {},
   "outputs": [
    {
     "data": {
      "text/plain": [
       "(1, 3)"
      ]
     },
     "metadata": {},
     "output_type": "display_data"
    }
   ],
   "source": [
    "size(a)"
   ]
  },
  {
   "cell_type": "markdown",
   "metadata": {},
   "source": [
    "**slicing and submatrices**"
   ]
  },
  {
   "cell_type": "code",
   "execution_count": 94,
   "metadata": {},
   "outputs": [
    {
     "data": {
      "text/plain": [
       "3×4 Matrix{Int64}:\n",
       " -1   0   1  0\n",
       "  2  -3   0  1\n",
       "  0   4  -2  1"
      ]
     },
     "metadata": {},
     "output_type": "display_data"
    }
   ],
   "source": [
    "A = [ -1 0 1 0 ; 2 -3 0 1 ; 0 4 -2 1]"
   ]
  },
  {
   "cell_type": "code",
   "execution_count": 95,
   "metadata": {},
   "outputs": [
    {
     "data": {
      "text/plain": [
       "2×2 Matrix{Int64}:\n",
       " 1  0\n",
       " 0  1"
      ]
     },
     "metadata": {},
     "output_type": "display_data"
    }
   ],
   "source": [
    "A[1:2,3:4] # submatrix of a"
   ]
  },
  {
   "cell_type": "code",
   "execution_count": 96,
   "metadata": {},
   "outputs": [
    {
     "data": {
      "text/plain": [
       "3-element Vector{Int64}:\n",
       "  1\n",
       "  0\n",
       " -2"
      ]
     },
     "metadata": {},
     "output_type": "display_data"
    }
   ],
   "source": [
    "A[:,3] # third column of A"
   ]
  },
  {
   "cell_type": "code",
   "execution_count": 102,
   "metadata": {},
   "outputs": [
    {
     "data": {
      "text/plain": [
       "4-element Vector{Int64}:\n",
       "  2\n",
       " -3\n",
       "  0\n",
       "  1"
      ]
     },
     "metadata": {},
     "output_type": "display_data"
    }
   ],
   "source": [
    "A[2,:] # second row of A, return as column vector (transpose of the row)"
   ]
  },
  {
   "cell_type": "code",
   "execution_count": 97,
   "metadata": {},
   "outputs": [
    {
     "data": {
      "text/plain": [
       "3×4 Matrix{Int64}:\n",
       " -1   0   1  0\n",
       "  2  -3   0  1\n",
       "  0   4  -2  1"
      ]
     },
     "metadata": {},
     "output_type": "display_data"
    }
   ],
   "source": [
    "A"
   ]
  },
  {
   "cell_type": "code",
   "execution_count": 98,
   "metadata": {},
   "outputs": [
    {
     "data": {
      "text/plain": [
       "3×4 Matrix{Int64}:\n",
       "  0   4  -2  1\n",
       "  2  -3   0  1\n",
       " -1   0   1  0"
      ]
     },
     "metadata": {},
     "output_type": "display_data"
    }
   ],
   "source": [
    "A[size(A,1):-1:1, :] # Matrix A with row order reversed"
   ]
  },
  {
   "cell_type": "code",
   "execution_count": 99,
   "metadata": {},
   "outputs": [
    {
     "data": {
      "text/plain": [
       "6-element Vector{Int64}:\n",
       "  1\n",
       "  2\n",
       "  1\n",
       " -3\n",
       "  0\n",
       " -2"
      ]
     },
     "metadata": {},
     "output_type": "display_data"
    }
   ],
   "source": [
    "B = [ 1 -3 ; 2 0 ; 1 -2]\n",
    "B[:] # using single indexing, we get a vector of ALL elements of A in column-major"
   ]
  },
  {
   "cell_type": "code",
   "execution_count": 100,
   "metadata": {},
   "outputs": [
    {
     "data": {
      "text/plain": [
       "2×3 Matrix{Int64}:\n",
       " 1   1   0\n",
       " 2  -3  -2"
      ]
     },
     "metadata": {},
     "output_type": "display_data"
    }
   ],
   "source": [
    "reshape(B,(2,3)) # we can reshape B into any shape as long as the dimensions match the # of elements,\n",
    "# reshaping will be by COLUMN-major order"
   ]
  },
  {
   "cell_type": "code",
   "execution_count": 101,
   "metadata": {},
   "outputs": [
    {
     "ename": "DimensionMismatch",
     "evalue": "DimensionMismatch: new dimensions (3, 3) must be consistent with array size 6",
     "output_type": "error",
     "traceback": [
      "DimensionMismatch: new dimensions (3, 3) must be consistent with array size 6\n",
      "\n",
      "Stacktrace:\n",
      " [1] (::Base.var\"#throw_dmrsa#328\")(dims::Tuple{Int64, Int64}, len::Int64)\n",
      "   @ Base ./reshapedarray.jl:41\n",
      " [2] reshape(a::Matrix{Int64}, dims::Tuple{Int64, Int64})\n",
      "   @ Base ./reshapedarray.jl:45\n",
      " [3] top-level scope\n",
      "   @ ~/sum24/engr108/matrices.ipynb:1"
     ]
    }
   ],
   "source": [
    "reshape(B,(3,3))"
   ]
  },
  {
   "cell_type": "markdown",
   "metadata": {},
   "source": [
    "**block matrices**"
   ]
  },
  {
   "cell_type": "code",
   "execution_count": 104,
   "metadata": {},
   "outputs": [
    {
     "data": {
      "text/plain": [
       "3×4 Matrix{Int64}:\n",
       " 0  2  3  -1\n",
       " 2  2  1   4\n",
       " 1  3  5   4"
      ]
     },
     "metadata": {},
     "output_type": "display_data"
    }
   ],
   "source": [
    "# use ; to stack matrices and space to do (horizontal) concatenation \n",
    "\n",
    "B = [ 0 2 3 ]; # 1x3 matrix\n",
    "C = [ -1 ]; # 1x1 matrix\n",
    "D = [ 2 2 1 ; 1 3 5]; # 2x3 matrix\n",
    "E = [4 ; 4 ]; # 2x1 matrix\n",
    "\n",
    "A = [B C;\n",
    "     D E]"
   ]
  },
  {
   "cell_type": "markdown",
   "metadata": {},
   "source": [
    "**column and row interpretation of a matrix**\n",
    "\n",
    "an $m x n$ matrix $A$ can be interpreted as a collection of $n$ $m$-vectors (its columns) or a collection of $m$ $n$-row vectors (its rows) \n",
    "\n",
    "Julia distinguishes between a matrix and an array of vectors\n",
    "-  An array (or a tuple) of column vectors can be converted into a matrix using the horizontal concatenation function `hcat`\n",
    "- `vcat` concatenates an array of arrays vertically. This is useful when constructing a matrix from its row vectors"
   ]
  },
  {
   "cell_type": "code",
   "execution_count": 112,
   "metadata": {},
   "outputs": [
    {
     "data": {
      "text/plain": [
       "2×3 Matrix{Float64}:\n",
       " 1.0  4.0  7.0\n",
       " 2.0  5.0  8.0"
      ]
     },
     "metadata": {},
     "output_type": "display_data"
    }
   ],
   "source": [
    "a = [ [1., 2.], [4., 5.], [7., 8.] ] # array of 2-vectors\n",
    "A = hcat(a...) # ... splits array a into its elements, same as hcat(a[1], a[2], a[3])"
   ]
  },
  {
   "cell_type": "code",
   "execution_count": 115,
   "metadata": {},
   "outputs": [
    {
     "data": {
      "text/plain": [
       "6-element Vector{Float64}:\n",
       " 1.0\n",
       " 2.0\n",
       " 4.0\n",
       " 5.0\n",
       " 7.0\n",
       " 8.0"
      ]
     },
     "metadata": {},
     "output_type": "display_data"
    }
   ],
   "source": [
    "A = vcat(a...)"
   ]
  },
  {
   "cell_type": "markdown",
   "metadata": {},
   "source": [
    "## 6.2 Zero and identity matrices"
   ]
  },
  {
   "cell_type": "code",
   "execution_count": null,
   "metadata": {},
   "outputs": [],
   "source": []
  },
  {
   "cell_type": "code",
   "execution_count": 59,
   "metadata": {},
   "outputs": [
    {
     "data": {
      "text/plain": [
       "(6.082762530298219, 6.082762530298219)"
      ]
     },
     "metadata": {},
     "output_type": "display_data"
    }
   ],
   "source": [
    "using LinearAlgebra\n",
    "norm(A),sqrt(sum(A.^2))"
   ]
  },
  {
   "cell_type": "code",
   "execution_count": null,
   "metadata": {},
   "outputs": [],
   "source": []
  }
 ],
 "metadata": {
  "kernelspec": {
   "display_name": "Julia 1.10.4",
   "language": "julia",
   "name": "julia-1.10"
  },
  "language_info": {
   "file_extension": ".jl",
   "mimetype": "application/julia",
   "name": "julia",
   "version": "1.10.4"
  }
 },
 "nbformat": 4,
 "nbformat_minor": 2
}
