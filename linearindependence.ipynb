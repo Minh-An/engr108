{
 "cells": [
  {
   "cell_type": "markdown",
   "metadata": {},
   "source": [
    "# Chapter 5: Linear Independence\n",
    "\n",
    "## 5.2 Basis\n",
    "Example: **Cash flow replication**\n",
    "\n",
    "Consider the cash flows over 3 periods, given by 3-vectors. Vectors: \n",
    "\\begin{align}\n",
    "  e_1 = \\begin{bmatrix}\n",
    "          1 \\\\\n",
    "          0 \\\\\n",
    "          0\n",
    "        \\end{bmatrix}, \\space \\space \\space\n",
    "  l_1 = \\begin{bmatrix}\n",
    "        1 \\\\\n",
    "        -(1+r) \\\\\n",
    "        0\n",
    "      \\end{bmatrix}, \\space \\space \\space\n",
    "  l_2 = \\begin{bmatrix}\n",
    "        0 \\\\\n",
    "        1 \\\\\n",
    "        -(1+r)\n",
    "      \\end{bmatrix}\n",
    "\\end{align}\n",
    "\n",
    "form a basis, where $r$ is the positive per-period interest rate. \n",
    "\n",
    "We can replicate cash flow $c=(1,2,-3)$:\n",
    "\n",
    "\\begin{align}\n",
    "  c = \\alpha_1 e_1 + \\alpha_2 l_1 + \\alpha_3 l_2 = \\alpha_1 \\begin{bmatrix}\n",
    "          1 \\\\\n",
    "          0 \\\\\n",
    "          0\n",
    "        \\end{bmatrix} + \\alpha_2 \\begin{bmatrix}\n",
    "        1 \\\\\n",
    "        -(1+r) \\\\\n",
    "        0\n",
    "      \\end{bmatrix} + \\alpha_3 \\begin{bmatrix}\n",
    "        0 \\\\\n",
    "        1 \\\\\n",
    "        -(1+r)\n",
    "      \\end{bmatrix}\n",
    "\\end{align}\n",
    "\n",
    "From the third component of $c$ we get $\\alpha_3 = -c_3/(1+r)$. \\\n",
    "From the second component of $c$ we get $\\alpha_2 = -c_2/(1+r) - c_3/(1+r)^2$\\\n",
    "From the first component of $c$ we get $\\alpha_1 = c_1 + c_2/(1+r) + c_3/(1+r)^2$"
   ]
  },
  {
   "cell_type": "code",
   "execution_count": 3,
   "metadata": {},
   "outputs": [
    {
     "data": {
      "text/plain": [
       "0.18367346938775508"
      ]
     },
     "metadata": {},
     "output_type": "display_data"
    }
   ],
   "source": [
    "r = 0.05 \n",
    "\n",
    "e1 = [1,0,0]; l1 = [1,-(1+r),0]; l2 = [0,1,-(1+r)]\n",
    "c = [1,2,-3]\n",
    "\n",
    "alpha3 = -c[3]/(1+r)\n",
    "alpha2 = -c[2]/(1+r) + alpha3/(1+r)\n",
    "alpha1 = c[1] - alpha2"
   ]
  },
  {
   "cell_type": "code",
   "execution_count": 5,
   "metadata": {},
   "outputs": [
    {
     "data": {
      "text/plain": [
       "3-element Vector{Float64}:\n",
       "  1.0\n",
       "  2.0\n",
       " -3.0"
      ]
     },
     "metadata": {},
     "output_type": "display_data"
    }
   ],
   "source": [
    "alpha1*e1 + alpha2*l1 + alpha3*l2"
   ]
  },
  {
   "cell_type": "markdown",
   "metadata": {},
   "source": [
    "## 5.3 Othonormal vectors \n",
    "\n",
    "**Expansion in orthonormal basis** \n",
    "Vectors: \n",
    "\\begin{align}\n",
    "  a_1 = \\begin{bmatrix}\n",
    "          0 \\\\\n",
    "          0 \\\\\n",
    "          -1\n",
    "        \\end{bmatrix},\n",
    "  a_2 = \\frac{1}{\\sqrt2} \\begin{bmatrix}\n",
    "        1 \\\\\n",
    "        1 \\\\\n",
    "        0\n",
    "      \\end{bmatrix},\n",
    "  a_3 = \\frac{1}{\\sqrt2} \\begin{bmatrix}\n",
    "        1 \\\\\n",
    "        -1 \\\\\n",
    "        0\n",
    "      \\end{bmatrix},\n",
    "\\end{align}\n",
    "form an orthonormal basis, and check the expansion of $x=(1,2,3)$ in this basis: \n",
    "\\begin{align}\n",
    "x = (a_1^Tx)a_1 + ... +  (a_n^Tx)a_n\n",
    "\\end{align}\n"
   ]
  },
  {
   "cell_type": "code",
   "execution_count": 12,
   "metadata": {},
   "outputs": [
    {
     "data": {
      "text/plain": [
       "(1.0, 0.9999999999999999, 0.9999999999999999)"
      ]
     },
     "metadata": {},
     "output_type": "display_data"
    }
   ],
   "source": [
    "using LinearAlgebra\n",
    "a1 = [0,0,-1]; a2 = [1,1,0]/sqrt(2); a3 = [1,-1,0]/sqrt(2)\n",
    "\n",
    "norm(a1), norm(a2), norm(a3) # check all normalized (norm = 1)"
   ]
  },
  {
   "cell_type": "code",
   "execution_count": 8,
   "metadata": {},
   "outputs": [
    {
     "data": {
      "text/plain": [
       "(0.0, -2.2371143170757382e-17, 0.0)"
      ]
     },
     "metadata": {},
     "output_type": "display_data"
    }
   ],
   "source": [
    "# check all orthogonal to each other \n",
    "a1'*a2, a2'*a3, a1'*a3"
   ]
  },
  {
   "cell_type": "code",
   "execution_count": 10,
   "metadata": {},
   "outputs": [
    {
     "data": {
      "text/plain": [
       "(-3, 2.1213203435596424, -0.7071067811865475)"
      ]
     },
     "metadata": {},
     "output_type": "display_data"
    }
   ],
   "source": [
    "x = [1,2,3]\n",
    "# get coefficients of x in orthonormal basis \n",
    "b1 = a1'*x; b2 = a2'*x; b3 = a3'*x\n",
    "b1,b2,b3"
   ]
  },
  {
   "cell_type": "code",
   "execution_count": 11,
   "metadata": {},
   "outputs": [
    {
     "data": {
      "text/plain": [
       "3-element Vector{Float64}:\n",
       " 0.9999999999999999\n",
       " 1.9999999999999996\n",
       " 3.0"
      ]
     },
     "metadata": {},
     "output_type": "display_data"
    }
   ],
   "source": [
    "# expansion of x in basis \n",
    "b1*a1+b2*a2+b3*a3"
   ]
  },
  {
   "cell_type": "markdown",
   "metadata": {},
   "source": [
    "## 5.4 Gram-Schmidt algorithm\n",
    "\n",
    "Determines if a list of $n$-vectors $a_1, ..., a_k$ is linearly independent.\n",
    "\n",
    "If the vectors are linearly independent, G-S algorithm produces an orthonormal collection of vectors $q_1, ..., q_k$. \n",
    "\n",
    "If the vectors $a_1, ..., a_{j-1}$ are linearly independent, but $a_1, ..., a_j$ are linearly dependent, the algorithm detects this and terminates. In other words, G-S finds the first vector $a_j$ that is a linear combination of the previous vectors $a_1, ..., a_{j-1}$. \n"
   ]
  },
  {
   "cell_type": "code",
   "execution_count": 13,
   "metadata": {},
   "outputs": [
    {
     "data": {
      "text/plain": [
       "gram_schmidt (generic function with 1 method)"
      ]
     },
     "metadata": {},
     "output_type": "display_data"
    }
   ],
   "source": [
    "function gram_schmidt(a; epsilon = 1e-10)\n",
    "    q = []\n",
    "    k = length(a)\n",
    "    for i=1:k\n",
    "        # step 1: orthogonalization \n",
    "        qtilde = a[i]\n",
    "        for j=1:i-1\n",
    "            qj = q[j]\n",
    "            qtilde -= (qj'*a[i])*qj\n",
    "        end\n",
    "        # step 2: test for linear dependence \n",
    "        if norm(qtilde) < epsilon\n",
    "            println(\"Vectors are linearly dependent\")\n",
    "            return q\n",
    "        end \n",
    "        # step 3: normalization \n",
    "        qi = qtilde/norm(qtilde)\n",
    "        push!(q, qi)\n",
    "    end\n",
    "    return q\n",
    "end\n"
   ]
  },
  {
   "cell_type": "code",
   "execution_count": 14,
   "metadata": {},
   "outputs": [
    {
     "data": {
      "text/plain": [
       "3-element Vector{Any}:\n",
       " [-0.5, 0.5, -0.5, 0.5]\n",
       " [0.5, 0.5, 0.5, 0.5]\n",
       " [-0.5, -0.5, 0.5, 0.5]"
      ]
     },
     "metadata": {},
     "output_type": "display_data"
    }
   ],
   "source": [
    "a = [ [-1, 1, -1, 1], [-1, 3, -1, 3], [1, 3, 5, 7] ]\n",
    "q = gram_schmidt(a)"
   ]
  },
  {
   "cell_type": "code",
   "execution_count": 21,
   "metadata": {},
   "outputs": [
    {
     "name": "stdout",
     "output_type": "stream",
     "text": [
      "1.0\n",
      "1.0\n",
      "1.0\n"
     ]
    }
   ],
   "source": [
    "# test orthonormality \n",
    "for qi in q\n",
    "    println(norm(qi))\n",
    "end"
   ]
  },
  {
   "cell_type": "code",
   "execution_count": 23,
   "metadata": {},
   "outputs": [
    {
     "data": {
      "text/plain": [
       "(0.0, 0.0, 0.0)"
      ]
     },
     "metadata": {},
     "output_type": "display_data"
    }
   ],
   "source": [
    "q[1]'*q[2], q[1]'*q[3], q[2]'*q[3]"
   ]
  },
  {
   "cell_type": "code",
   "execution_count": 24,
   "metadata": {},
   "outputs": [
    {
     "name": "stdout",
     "output_type": "stream",
     "text": [
      "Vectors are linearly dependent\n"
     ]
    },
    {
     "data": {
      "text/plain": [
       "2-element Vector{Any}:\n",
       " [-0.5, 0.5, -0.5, 0.5]\n",
       " [0.5, 0.5, 0.5, 0.5]"
      ]
     },
     "metadata": {},
     "output_type": "display_data"
    }
   ],
   "source": [
    "# example of linear dependence \n",
    "b = [ a[1], a[2], 1.3*a[1] + 0.5*a[2] ]\n",
    "\n",
    "q = gram_schmidt(b)"
   ]
  },
  {
   "cell_type": "code",
   "execution_count": 25,
   "metadata": {},
   "outputs": [
    {
     "name": "stdout",
     "output_type": "stream",
     "text": [
      "Vectors are linearly dependent\n"
     ]
    },
    {
     "data": {
      "text/plain": [
       "2-element Vector{Any}:\n",
       " [0.7071067811865475, 0.7071067811865475]\n",
       " [-0.7071067811865471, 0.7071067811865478]"
      ]
     },
     "metadata": {},
     "output_type": "display_data"
    }
   ],
   "source": [
    "# example of independence-dimension inequality \n",
    "# we know that any 3 2-vectors must be dependent -- confirm w G-S \n",
    "\n",
    "three_two_vectors = [ [1,1], [1,2], [-1,1] ]\n",
    "q = gram_schmidt(three_two_vectors)"
   ]
  },
  {
   "cell_type": "code",
   "execution_count": null,
   "metadata": {},
   "outputs": [],
   "source": []
  }
 ],
 "metadata": {
  "kernelspec": {
   "display_name": "Julia 1.10.4",
   "language": "julia",
   "name": "julia-1.10"
  },
  "language_info": {
   "file_extension": ".jl",
   "mimetype": "application/julia",
   "name": "julia",
   "version": "1.10.4"
  }
 },
 "nbformat": 4,
 "nbformat_minor": 2
}
