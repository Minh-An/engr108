{
 "cells": [
  {
   "cell_type": "markdown",
   "metadata": {},
   "source": [
    "# Chapter 5: Linear Independence\n",
    "\n",
    "## 5.2 Basis\n",
    "Example: **Cash flow replication**\n",
    "\n",
    "Consider the cash flows over 3 periods, given by 3-vectors. Vectors: \n",
    "\\begin{align}\n",
    "  e_1 = \\begin{bmatrix}\n",
    "          1 \\\\\n",
    "          0 \\\\\n",
    "          0\n",
    "        \\end{bmatrix}, \\space \\space \\space\n",
    "  l_1 = \\begin{bmatrix}\n",
    "        1 \\\\\n",
    "        -(1+r) \\\\\n",
    "        0\n",
    "      \\end{bmatrix}, \\space \\space \\space\n",
    "  l_2 = \\begin{bmatrix}\n",
    "        0 \\\\\n",
    "        1 \\\\\n",
    "        -(1+r)\n",
    "      \\end{bmatrix}\n",
    "\\end{align}\n",
    "\n",
    "form a basis, where $r$ is the positive per-period interest rate. \n",
    "\n",
    "We can replicate cash flow $c=(1,2,-3)$:\n",
    "\n",
    "\\begin{align}\n",
    "  c = \\alpha_1 e_1 + \\alpha_2 l_1 + \\alpha_3 l_2 = \\alpha_1 \\begin{bmatrix}\n",
    "          1 \\\\\n",
    "          0 \\\\\n",
    "          0\n",
    "        \\end{bmatrix} + \\alpha_2 \\begin{bmatrix}\n",
    "        1 \\\\\n",
    "        -(1+r) \\\\\n",
    "        0\n",
    "      \\end{bmatrix} + \\alpha_3 \\begin{bmatrix}\n",
    "        0 \\\\\n",
    "        1 \\\\\n",
    "        -(1+r)\n",
    "      \\end{bmatrix}\n",
    "\\end{align}\n",
    "\n",
    "From the third component of $c$ we get $\\alpha_3 = -c_3/(1+r)$. \\\n",
    "From the second component of $c$ we get $\\alpha_2 = -c_2/(1+r) - c_3/(1+r)^2$\\\n",
    "From the first component of $c$ we get $\\alpha_1 = c_1 + c_2/(1+r) + c_3/(1+r)^2$"
   ]
  },
  {
   "cell_type": "code",
   "execution_count": 3,
   "metadata": {},
   "outputs": [
    {
     "data": {
      "text/plain": [
       "0.18367346938775508"
      ]
     },
     "metadata": {},
     "output_type": "display_data"
    }
   ],
   "source": [
    "r = 0.05 \n",
    "\n",
    "e1 = [1,0,0]; l1 = [1,-(1+r),0]; l2 = [0,1,-(1+r)]\n",
    "c = [1,2,-3]\n",
    "\n",
    "alpha3 = -c[3]/(1+r)\n",
    "alpha2 = -c[2]/(1+r) + alpha3/(1+r)\n",
    "alpha1 = c[1] - alpha2"
   ]
  },
  {
   "cell_type": "code",
   "execution_count": 5,
   "metadata": {},
   "outputs": [
    {
     "data": {
      "text/plain": [
       "3-element Vector{Float64}:\n",
       "  1.0\n",
       "  2.0\n",
       " -3.0"
      ]
     },
     "metadata": {},
     "output_type": "display_data"
    }
   ],
   "source": [
    "alpha1*e1 + alpha2*l1 + alpha3*l2"
   ]
  },
  {
   "cell_type": "markdown",
   "metadata": {},
   "source": [
    "## 5.3 Othonormal vectors \n",
    "\n",
    "**Expansion in orthonormal basis** \n",
    "Vectors: \n",
    "\\begin{align}\n",
    "  a_1 = \\begin{bmatrix}\n",
    "          0 \\\\\n",
    "          0 \\\\\n",
    "          -1\n",
    "        \\end{bmatrix},\n",
    "  a_2 = \\frac{1}{\\sqrt2} \\begin{bmatrix}\n",
    "        1 \\\\\n",
    "        1 \\\\\n",
    "        0\n",
    "      \\end{bmatrix},\n",
    "  a_3 = \\frac{1}{\\sqrt2} \\begin{bmatrix}\n",
    "        1 \\\\\n",
    "        -1 \\\\\n",
    "        0\n",
    "      \\end{bmatrix},\n",
    "\\end{align}\n",
    "form an orthonormal basis, and check the expansion of $x=(1,2,3)$ in this basis: \n",
    "\\begin{align}\n",
    "x = (a_1^Tx)a_1 + ... +  (a_n^Tx)a_n\n",
    "\\end{align}\n"
   ]
  },
  {
   "cell_type": "code",
   "execution_count": null,
   "metadata": {},
   "outputs": [],
   "source": []
  },
  {
   "cell_type": "markdown",
   "metadata": {},
   "source": []
  }
 ],
 "metadata": {
  "kernelspec": {
   "display_name": "Julia 1.10.4",
   "language": "julia",
   "name": "julia-1.10"
  },
  "language_info": {
   "file_extension": ".jl",
   "mimetype": "application/julia",
   "name": "julia",
   "version": "1.10.4"
  }
 },
 "nbformat": 4,
 "nbformat_minor": 2
}
